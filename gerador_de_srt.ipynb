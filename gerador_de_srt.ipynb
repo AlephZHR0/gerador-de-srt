{
  "cells": [
    {
      "cell_type": "markdown",
      "metadata": {
        "id": "WeAXEOaEwm7X"
      },
      "source": [
        "#instalação"
      ]
    },
    {
      "cell_type": "code",
      "execution_count": null,
      "metadata": {
        "id": "1YKp4tBkTD54"
      },
      "outputs": [],
      "source": [
        "%pip install -U pytube # instalando a biblioteca para baixar videos do youtube\n",
        "%pip install -U openai-whisper # instalando a biblioteca para transcrição"
      ]
    },
    {
      "cell_type": "markdown",
      "metadata": {
        "id": "SF1dVmNKwo1F"
      },
      "source": [
        "# carregamentos das bibliotecas"
      ]
    },
    {
      "cell_type": "code",
      "execution_count": 2,
      "metadata": {
        "id": "QxcI9Zo6UJ0k"
      },
      "outputs": [],
      "source": [
        "import datetime # biblioteca para colocar os tempos na legenda\n",
        "import os # biblioteca para gerenciar pastas do sistema\n",
        "import whisper # biblioteca para fazer a transcrição\n",
        "from pytube import YouTube # biblioteca para fazer downloads de vídeos do youtube"
      ]
    },
    {
      "cell_type": "markdown",
      "metadata": {
        "id": "DG7SrkxDw2Uh"
      },
      "source": [
        "# Carregamento do modelo\n",
        "\n",
        "## Modelos disponiveis:\n",
        "\n",
        "https://github.com/openai/whisper#available-models-and-languages\n",
        "\n",
        "lembre-se de carregar somente um modelo, coloquei dois como exemplo, deixe apenas o que vai utilizar"
      ]
    },
    {
      "cell_type": "markdown",
      "metadata": {
        "id": "AjGNHJ5C3bIV"
      },
      "source": []
    },
    {
      "cell_type": "code",
      "execution_count": null,
      "metadata": {
        "id": "qanZpqFEw1hS"
      },
      "outputs": [],
      "source": [
        "model = whisper.load_model(\"tiny\") # carregamento do modelo pequeno (não tão bom, mas muito rápido)\n",
        "# model = whisper.load_model(\"large-v3\") # carregamento do modelo (muito bom, mas não tão rápido)"
      ]
    },
    {
      "cell_type": "markdown",
      "metadata": {
        "id": "-NcOZy7iwsEA"
      },
      "source": [
        "# Definição das funções"
      ]
    },
    {
      "cell_type": "markdown",
      "metadata": {},
      "source": [
        "## Função de download do youtube"
      ]
    },
    {
      "cell_type": "code",
      "execution_count": null,
      "metadata": {
        "id": "jM_oywrdwvrj"
      },
      "outputs": [],
      "source": [
        "def download_youtube_audio(link): # função que faz download\n",
        "    # print(\"Downloading youtube video\") # feedback avisando que o vídeo está sendo baixado, só retirar o # no inicio da linha que ele roda\n",
        "    video = YouTube(link) # construção do objeto do vídeo\n",
        "    stream = video.streams.get_audio_only() # download do áudio\n",
        "    # stream = video.streams.get_highest_resolution() # download do vídeo\n",
        "    try:\n",
        "        file_path = stream.download(\"yt_downloads\") # tenta colocar os downloads nessa pasta\n",
        "    except FileNotFoundError: # se a pasta não existir:\n",
        "        os.mkdir(\"yt_downloads\") # ele cria\n",
        "        file_path = stream.download(\"yt_downloads\") # e coloca o video lá\n",
        "    # print(\"Downloaded successfully\") # feedback avisando que deu tudo certo, só retirar o # no inicio da linha que ele roda\n",
        "    return os.path.abspath(file_path) # fala onde está o vídeo"
      ]
    },
    {
      "cell_type": "markdown",
      "metadata": {},
      "source": [
        "## Função de transcrição"
      ]
    },
    {
      "cell_type": "code",
      "execution_count": null,
      "metadata": {},
      "outputs": [],
      "source": [
        "def convert_audio_to_srt(file_path): # função que converte o audio\n",
        "    global model # pega o modelo que foi importado\n",
        "    def format_srt_time(timestamp): # função que formata a diferença de tempo para srt\n",
        "        td_object = str(datetime.timedelta(seconds=timestamp))\n",
        "        if \".\" in td_object:\n",
        "            td_object = td_object.replace('.', ',') # troca o ponto por vírgula\n",
        "            td_object = td_object[:td_object.rindex(',') + 4] # pega só até a terceira casa decimal\n",
        "        return td_object # retorna o tempo formatado\n",
        "\n",
        "    def generate_srt(transcript): # função que gera o srt\n",
        "        srt_text = \"\" # começa com um texto vazio\n",
        "        for i, segment in enumerate(transcript): # para cada segmento na transcrição\n",
        "            start_time = format_srt_time(segment['start']) # define o tempo inicial do trecho\n",
        "            end_time = format_srt_time(segment['end']) # define o tempo final do trecho\n",
        "            text = segment['text'] # define o texto\n",
        "            srt_text += f\"{i + 1}\\n{start_time} --> {end_time}\\n{text}\\n\\n\" # coloca tudo junto nesse formato e no final coloca para a próxima linha\n",
        "        return srt_text # retorna o texto final\n",
        "\n",
        "    audio = whisper.load_audio(file_path) # carrega o audio\n",
        "    result = model.transcribe(audio) # pega a transcrição a partir do audio\n",
        "    new_file = file_path[:file_path.rindex(\".\")] # pega o caminho do arquivo e o nome dele, só remove a extensão\n",
        "    srt_text = generate_srt(result['segments']) # gera o srt baseado em cada segmento por meio da função\n",
        "    # print(srt_text) # exibe na tela a transcrição, só retirar o # no inicio da linha que ele roda\n",
        "    with open(f\"{new_file}.srt\", \"w\") as file: # cria um arquivo com o nome do arquivo mp4 só que desta vez no formato srt\n",
        "        file.write(srt_text) # escreve o conteúdo no arquivo"
      ]
    },
    {
      "cell_type": "markdown",
      "metadata": {
        "id": "BqZV7a1q0R1Z"
      },
      "source": [
        "# baixando todos os vídeos do youtube na lista e gerando o srt"
      ]
    },
    {
      "cell_type": "code",
      "execution_count": null,
      "metadata": {
        "id": "j6pF2WspUkAS"
      },
      "outputs": [],
      "source": [
        "links = [\"https://www.youtube.com/watch?v=o0LjwAohJO8\",\n",
        "         \"https://www.youtube.com/watch?v=zkI1TZOKSrM\"\n",
        "        ] # lista de vídeos de teste para download\n",
        "for link in links: # loop para executar pegar cada link da lista de links\n",
        "    download_youtube_audio(link) # função que realiza o download a partir do link que foi passado pelo loop"
      ]
    },
    {
      "cell_type": "markdown",
      "metadata": {
        "id": "vYbjXkeG0Xmq"
      },
      "source": [
        "## define o caminho e também passa cada arquivo baixado do youtube para gerar o srt"
      ]
    },
    {
      "cell_type": "code",
      "execution_count": null,
      "metadata": {
        "id": "yeg5r26Ibu-J"
      },
      "outputs": [],
      "source": [
        "path = \"/content/yt_downloads\" # pasta que você quer transcrever\n",
        "for file in os.listdir(path): # loop para pegar todos os arquivos na pasta\n",
        "    convert_audio_to_srt(f\"{path}/{file}\") # passa cada arquivo na função que vai converter para srt"
      ]
    },
    {
      "cell_type": "markdown",
      "metadata": {},
      "source": [
        "# Transcrevendo todos os arquivos em um diretório"
      ]
    },
    {
      "cell_type": "code",
      "execution_count": null,
      "metadata": {},
      "outputs": [],
      "source": [
        "path = \"/content\" # pasta que você quer transcrever\n",
        "for file in os.listdir(path): # loop para pegar todos os arquivos na pasta\n",
        "    try: # tenta\n",
        "        convert_audio_to_srt(f\"{path}/{file}\") # passa cada arquivo na função que vai converter para srt\n",
        "        print(f\"gerado srt para o seguinte arquivo:\\n{file}\") # feedback avisando que foi gerado o srt para o arquivo (só retirar o # no inicio da linha que ele roda)\n",
        "    except: # se der algum erro\n",
        "        print(f\"não foi possível gerar o srt para o seguinte arquivo:\\n{file}\") # feedback avisando que não foi possível gerar o srt para o arquivo"
      ]
    }
  ],
  "metadata": {
    "accelerator": "GPU",
    "colab": {
      "gpuType": "T4",
      "provenance": []
    },
    "kernelspec": {
      "display_name": "Python 3",
      "name": "python3"
    },
    "language_info": {
      "name": "python"
    }
  },
  "nbformat": 4,
  "nbformat_minor": 0
}
